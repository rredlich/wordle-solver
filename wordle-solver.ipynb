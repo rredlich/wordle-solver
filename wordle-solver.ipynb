{
 "cells": [
  {
   "cell_type": "markdown",
   "metadata": {},
   "source": [
    "# Wordle Solver using twitter spoilers\n",
    "\n",
    "Every time you submit a guess word, you get a 'clue' with the letters of the word in green, yellow, or gray.\n",
    "\n",
    "This script starts with the hypothesis that every answer word has a unique set of 'clues' which makes it differentiable from other words. So, if you can get a set of clues from the wordle tweets that people share, you should be able to find the answer word.\n",
    "\n",
    "The script starts making a dictionary of clue patterns containing all the words that show that pattern.\n",
    "\n",
    "Then, given a set of clue patterns from Twitter, the script finds the word that has those patterns."
   ]
  },
  {
   "cell_type": "code",
   "execution_count": 31,
   "metadata": {},
   "outputs": [],
   "source": [
    "from tqdm import tqdm\n",
    "import numpy as np\n",
    "import pickle"
   ]
  },
  {
   "cell_type": "markdown",
   "metadata": {},
   "source": [
    "## Compute the test between two words\n",
    "The rules are straightforward:\n",
    "\n",
    "* If the spot is green, the letter is in the correct spot\n",
    "* If the spot is yellow, the letter is in the answer word but in the wrong place\n",
    "* If the spot is gray, the letter is nos in the answer word\n",
    "\n",
    "However, you should be careful with repeated letters. They are treated like any other letter, and if you repeat a letter more than it appears, the excess will be check in grey. For example:\n",
    "\n",
    "```\n",
    "answer: prick\n",
    "guess:  polyp\n",
    "clue:   gxxxx\n",
    "````\n",
    "\n",
    "where g: green, y: yellow, and x:gray. The second 'p' on polyp was check in gray."
   ]
  },
  {
   "cell_type": "code",
   "execution_count": 32,
   "metadata": {},
   "outputs": [],
   "source": [
    "def wordTest(answer, guess):\n",
    "    \"\"\" Test two words (answer and guess) and return the clue pattern\n",
    "    answer: string of 5 letters\n",
    "    guess:  string of 5 letters\n",
    "    return: string of 5 letters where g: green, y:yellow, and x:gray\n",
    "    \"\"\"\n",
    "    \n",
    "    # change from string to list to make it editable\n",
    "    answer = list(answer)\n",
    "    pattern = list('.....')\n",
    "    \n",
    "    # check for correct spot and check as green\n",
    "    # remove the letter to not check a yellow highlight if the letter appears on other spot\n",
    "    for i in range(5):\n",
    "        if answer[i] == guess[i]:\n",
    "            pattern[i] = 'g'\n",
    "            answer[i] = '.'\n",
    "    \n",
    "    # check if the other spots are gray or yellow\n",
    "    # remove the yellow to not check excess of repeated letters\n",
    "    for i in range(5):\n",
    "        if pattern[i] != 'g':\n",
    "            index = answer.index(guess[i]) if guess[i] in answer else -1\n",
    "            if index == -1:\n",
    "                pattern[i] = 'x'\n",
    "            else:\n",
    "                pattern[i] = 'y'\n",
    "                answer[index] = '.'\n",
    "    \n",
    "    return ''.join(pattern) "
   ]
  },
  {
   "cell_type": "markdown",
   "metadata": {},
   "source": [
    "## Load the word lists\n",
    "\n",
    "The little trick is that the original game has in their code the word list of all possible answers and all the valid words.\n",
    "\n",
    "As a side note, you should be careful because the list of answers word in the code are in order as they are the answer in the game everdy day.\n",
    "\n",
    "You can get both list in alphabetical order (no spoilers here :)) from the following repo:\n",
    "\n",
    "https://gist.github.com/cfreshman"
   ]
  },
  {
   "cell_type": "code",
   "execution_count": 33,
   "metadata": {},
   "outputs": [],
   "source": [
    "# Loads the answer words\n",
    "answers = []\n",
    "with open('word-list/wordle-answers-alphabetical.txt','r') as f:\n",
    "    for line in f:\n",
    "        for word in line.split():\n",
    "            answers.append(word)\n",
    "\n",
    "# Loads the allowed words and contact with the answers, as they are also valid words\n",
    "allowed = []\n",
    "with open('word-list/wordle-allowed-guesses.txt','r') as f:\n",
    "    for line in f:\n",
    "        for word in line.split():\n",
    "            allowed.append(word)\n",
    "\n",
    "allowed = [*allowed, *answers]"
   ]
  },
  {
   "cell_type": "markdown",
   "metadata": {},
   "source": [
    "## Dictionary of clue patterns\n",
    "Create a dictionary with all the possible patterns of green, yellow and gray in 5 letters.\n",
    "\n",
    "Then fill the dictionary with every answer word that can show that pattern when you use an allowed word."
   ]
  },
  {
   "cell_type": "code",
   "execution_count": 41,
   "metadata": {},
   "outputs": [
    {
     "name": "stderr",
     "output_type": "stream",
     "text": [
      "100%|██████████| 2315/2315 [04:45<00:00,  8.11it/s]\n"
     ]
    }
   ],
   "source": [
    "# Create empty dictionary with all the clue pattern as key\n",
    "patternDict = {}\n",
    "for i in range(3**5):\n",
    "    key = np.base_repr(i, base=3)\n",
    "    key = '0'*(5-len(key))+key\n",
    "    key = key.replace('0','x')\n",
    "    key = key.replace('1','y')\n",
    "    key = key.replace('2','g')\n",
    "    \n",
    "    patternDict[key] = []\n",
    "\n",
    "# Fill the dictionary with the corresponding words\n",
    "from tqdm import tqdm\n",
    "for w1 in tqdm(answers):\n",
    "    for w2 in allowed:\n",
    "        clue = wordTest(w1, w2)\n",
    "        \n",
    "        patternDict[clue].append(w1)\n",
    "\n",
    "# The previous piece of code will fill with repeated w1 words every time an allowed word shows a pattern\n",
    "# I removed the repeated words with the piece of code below\n",
    "# NOTE: This is memory-inneficient, but more faster than filter the word storage on the dictionary filling\n",
    "for k in patternDict:\n",
    "    patternDict[k] = list(dict.fromkeys(patternDict[k]))\n",
    "\n",
    "        \n",
    "pickle.dump(patternDict, open( \"patternDict.pkl\", \"wb\" ) )"
   ]
  },
  {
   "cell_type": "markdown",
   "metadata": {},
   "source": [
    "## Find the answer word\n",
    "Given a set of clue patterns get manually from twitter, first I get the possible word for each pattern from the list and intersect it until I get one word.\n",
    "\n",
    "This script deppends highly on the patterns that people share and the ones that you add to the list."
   ]
  },
  {
   "cell_type": "code",
   "execution_count": 48,
   "metadata": {},
   "outputs": [
    {
     "name": "stdout",
     "output_type": "stream",
     "text": [
      "2314\n",
      "487\n",
      "278\n",
      "278\n",
      "278\n",
      "278\n",
      "180\n",
      "180\n",
      "161\n",
      "119\n",
      "119\n",
      "119\n",
      "119\n",
      "119\n",
      "119\n",
      "119\n",
      "113\n",
      "113\n",
      "23\n",
      "10\n",
      "4\n",
      "4\n",
      "4\n",
      "4\n",
      "4\n",
      "4\n",
      "3\n",
      "3\n",
      "3\n",
      "3\n",
      "1\n",
      "['wince']\n"
     ]
    }
   ],
   "source": [
    "patternDict = pickle.load( open( \"patternDict.pkl\", \"rb\" ) )\n",
    "\n",
    "# Patterns from the wordle 217 (answer: wince)\n",
    "key = ['xxxxx',\n",
    "      'xyyxx',\n",
    "      'gxyyg',\n",
    "      'gggxg',\n",
    "      'xxyxg',\n",
    "      'xxxyx',\n",
    "      'xxgxg',\n",
    "      'xgggg',\n",
    "      'xxxxg',\n",
    "      'xggyx',\n",
    "      'xxygg',\n",
    "      'xxxgg',\n",
    "      'xxxgg',\n",
    "      'xxyyx',\n",
    "      'xgxyx',\n",
    "      'yxyxx',\n",
    "      'xyxyy',\n",
    "      'xgyxx',\n",
    "      'xgxgg',\n",
    "      'yxxxx',\n",
    "      'gyggx',\n",
    "      'ygxgg',\n",
    "      'xgxyx',\n",
    "      'xyygg',\n",
    "      'xyxxx',\n",
    "      'xgggg',\n",
    "      'xxyyg',\n",
    "      'xgxxx',\n",
    "      'xxgxx',\n",
    "      'xyyxg',\n",
    "      'ygyxg',\n",
    "      'ygxxx',\n",
    "      'xxxyy',\n",
    "      'xgxxg',\n",
    "      'ggggx']\n",
    "solution = 'wince'\n",
    "key = list(dict.fromkeys(key))\n",
    "\n",
    "intersection = patternDict[key[0]]\n",
    "for k in key[1:]:\n",
    "    intersection = list(set(intersection) & set(patternDict[k]))\n",
    "    print(len(intersection))\n",
    "    if len(intersection) == 1:\n",
    "        print(intersection)"
   ]
  }
 ],
 "metadata": {
  "kernelspec": {
   "display_name": "Python 3",
   "language": "python",
   "name": "python3"
  },
  "language_info": {
   "codemirror_mode": {
    "name": "ipython",
    "version": 3
   },
   "file_extension": ".py",
   "mimetype": "text/x-python",
   "name": "python",
   "nbconvert_exporter": "python",
   "pygments_lexer": "ipython3",
   "version": "3.7.1"
  }
 },
 "nbformat": 4,
 "nbformat_minor": 4
}
